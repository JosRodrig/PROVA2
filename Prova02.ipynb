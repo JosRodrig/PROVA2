{
 "cells": [
  {
   "cell_type": "code",
   "execution_count": 14,
   "id": "4d1c9453-f412-4818-8be1-62c92c4ba08c",
   "metadata": {},
   "outputs": [],
   "source": [
    "def monitorar_consumo(energia_diaria):\n",
    "\n",
    "  \n",
    "    consumo_total = sum(energia_diaria)\n",
    "    consumo_medio = consumo_total / len(energia_diaria)\n",
    "   \n",
    "    return {\n",
    "        \"consumo_total\": consumo_total,\n",
    "        \"consumo_medio\": consumo_medio,\n",
    "   \n",
    "\n",
    "    }\n",
    "\n",
    "consumos = [\n",
    "    50, 45, 55, 60, 48, 52, 47, 49, 53, 51,\n",
    "    50, 46, 54, 61, 49, 53, 48, 50, 52, 47,\n",
    "    56, 50, 55, 60, 48, 52, 47, 49, 53, 51\n",
    "]\n",
    "\n"
   ]
  },
  {
   "cell_type": "code",
   "execution_count": 15,
   "id": "270b6fe7-fca2-4e8b-8591-8169c5c90173",
   "metadata": {},
   "outputs": [],
   "source": [
    "relatorio = monitorar_consumo(consumos)"
   ]
  },
  {
   "cell_type": "code",
   "execution_count": 16,
   "id": "d47ea9aa-50c0-4752-a3f3-99d89bb8f1f0",
   "metadata": {},
   "outputs": [
    {
     "name": "stdout",
     "output_type": "stream",
     "text": [
      "Consumo Médio Diário: 51.37 kWh\n"
     ]
    }
   ],
   "source": [
    "print(f\"Consumo Médio Diário: {relatorio['consumo_medio']:.2f} kWh\")"
   ]
  }
 ],
 "metadata": {
  "kernelspec": {
   "display_name": "Python 3 (ipykernel)",
   "language": "python",
   "name": "python3"
  },
  "language_info": {
   "codemirror_mode": {
    "name": "ipython",
    "version": 3
   },
   "file_extension": ".py",
   "mimetype": "text/x-python",
   "name": "python",
   "nbconvert_exporter": "python",
   "pygments_lexer": "ipython3",
   "version": "3.12.4"
  }
 },
 "nbformat": 4,
 "nbformat_minor": 5
}
